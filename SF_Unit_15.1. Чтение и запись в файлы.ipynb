{
  "nbformat": 4,
  "nbformat_minor": 0,
  "metadata": {
    "colab": {
      "provenance": [],
      "mount_file_id": "https://github.com/Svetlana-Kozhina/Projects-from-SkillFactory/blob/master/SF_Unit_15ipynb.ipynb",
      "authorship_tag": "ABX9TyOLnsMDwRIVqDUNM3Jj2TG7",
      "include_colab_link": true
    },
    "kernelspec": {
      "name": "python3",
      "display_name": "Python 3"
    },
    "language_info": {
      "name": "python"
    }
  },
  "cells": [
    {
      "cell_type": "markdown",
      "metadata": {
        "id": "view-in-github",
        "colab_type": "text"
      },
      "source": [
        "<a href=\"https://colab.research.google.com/github/Svetlana-Kozhina/Projects-from-SkillFactory/blob/master/SF_Unit_15ipynb.ipynb\" target=\"_parent\"><img src=\"https://colab.research.google.com/assets/colab-badge.svg\" alt=\"Open In Colab\"/></a>"
      ]
    },
    {
      "cell_type": "code",
      "source": [
        "from google.colab import drive\n",
        "drive.mount('/content/gdrive')"
      ],
      "metadata": {
        "id": "lfzvkfSlrxwN",
        "outputId": "54f04a2b-602a-44f1-c23a-6edd50de934f",
        "colab": {
          "base_uri": "https://localhost:8080/"
        }
      },
      "execution_count": null,
      "outputs": [
        {
          "output_type": "stream",
          "name": "stdout",
          "text": [
            "Mounted at /content/gdrive\n"
          ]
        }
      ]
    },
    {
      "cell_type": "code",
      "execution_count": null,
      "metadata": {
        "id": "mlbGxGN5i5C-"
      },
      "outputs": [],
      "source": [
        "myFile = open('/content/gdrive/My Drive/Colab Notebooks/filename.txt', 'rt', encoding='utf8')"
      ]
    },
    {
      "cell_type": "code",
      "source": [
        "myFile = open('/content/gdrive/My Drive/Colab Notebooks/filename.txt')\n",
        "print(myFile.read(100))"
      ],
      "metadata": {
        "colab": {
          "base_uri": "https://localhost:8080/"
        },
        "id": "dJ3OQ4UUj4PY",
        "outputId": "e389f948-d82e-459c-c99f-0c09e0cd96ff"
      },
      "execution_count": null,
      "outputs": [
        {
          "output_type": "stream",
          "name": "stdout",
          "text": [
            "Lorem ipsum dolor sit amet, consectetur adipiscing elit. Suspendisse id interdum nibh. Donec ultrice\n"
          ]
        }
      ]
    },
    {
      "cell_type": "code",
      "source": [
        "# Метод, который берет файл и каждую строчку из этого файла представляет как элемент списка\n",
        "myFile = open('/content/gdrive/My Drive/Colab Notebooks/filename.txt')\n",
        "print(myFile.readlines())"
      ],
      "metadata": {
        "colab": {
          "base_uri": "https://localhost:8080/"
        },
        "id": "HpiUnDhMnDZ0",
        "outputId": "bb16c579-82c1-4aa9-e504-8d6b14bc4e2a"
      },
      "execution_count": null,
      "outputs": [
        {
          "output_type": "stream",
          "name": "stdout",
          "text": [
            "['Lorem ipsum dolor sit amet, consectetur adipiscing elit. Suspendisse id interdum nibh. Donec ultrices pellentesque porta. Etiam vel suscipit arcu, eu vehicula leo. Vivamus venenatis felis at dignissim vehicula. Cras eleifend augue leo, finibus fringilla ipsum tempus eget. Sed condimentum a libero at maximus. Suspendisse ornare purus nec suscipit lobortis. Mauris vitae orci et massa commodo blandit. Suspendisse nec auctor turpis. Nullam sodales orci augue, et auctor diam luctus malesuada.\\n', '\\n', 'Phasellus pharetra purus eget tempus ornare. Donec dictum nulla nec dapibus egestas. Nunc ac finibus dui. Nullam vel scelerisque nulla, in consequat nisi. Mauris nec purus aliquet, commodo erat et, cursus nisl. Nam non magna lacus. Duis sodales lacus sed efficitur euismod. Ut non vehicula nulla, sit amet scelerisque dui. Vestibulum ante ipsum primis in faucibus orci luctus et ultrices posuere cubilia curae; Morbi malesuada leo sit amet lorem imperdiet sodales. Donec quis turpis est. Nullam sed lectus ullamcorper, aliquet urna sit amet, venenatis quam. Vestibulum interdum a risus vel volutpat. Vivamus mauris ligula, pharetra non libero tempor, ornare facilisis dui. Duis tincidunt tortor tincidunt dui vehicula, id faucibus purus eleifend.\\n', '\\n', 'Suspendisse tincidunt erat id turpis malesuada, ut lobortis felis feugiat. Donec rhoncus metus ut nulla faucibus feugiat. Vestibulum ante ipsum primis in faucibus orci luctus et ultrices posuere cubilia curae; Sed in tristique felis. Aenean tellus ex, congue iaculis neque quis, ultricies dictum massa. Curabitur vulputate efficitur libero, sed ullamcorper sapien malesuada ut. Duis venenatis, ante at vestibulum rhoncus, neque justo convallis ipsum, non elementum sem mauris vel nunc. In urna est, vulputate vitae libero ut, egestas blandit nisl. Praesent scelerisque vulputate libero, vel imperdiet risus commodo ut. In hac habitasse platea dictumst. Phasellus pharetra rutrum metus quis scelerisque. Pellentesque ex arcu, vestibulum quis ultricies ut, luctus varius felis. Vivamus sed aliquam sem, a dictum mauris. Phasellus non leo vel tortor pulvinar ornare ultrices sed enim.']\n"
          ]
        }
      ]
    },
    {
      "cell_type": "code",
      "source": [
        "myFile = open('/content/gdrive/My Drive/Colab Notebooks/filename.txt')\n",
        "for line in myFile:\n",
        "  print(line)"
      ],
      "metadata": {
        "colab": {
          "base_uri": "https://localhost:8080/"
        },
        "id": "Dkk9Ux--njBS",
        "outputId": "1d7b2f34-619c-49aa-d085-d5cfbb6c1402"
      },
      "execution_count": null,
      "outputs": [
        {
          "output_type": "stream",
          "name": "stdout",
          "text": [
            "Lorem ipsum dolor sit amet, consectetur adipiscing elit. Suspendisse id interdum nibh. Donec ultrices pellentesque porta. Etiam vel suscipit arcu, eu vehicula leo. Vivamus venenatis felis at dignissim vehicula. Cras eleifend augue leo, finibus fringilla ipsum tempus eget. Sed condimentum a libero at maximus. Suspendisse ornare purus nec suscipit lobortis. Mauris vitae orci et massa commodo blandit. Suspendisse nec auctor turpis. Nullam sodales orci augue, et auctor diam luctus malesuada.\n",
            "\n",
            "\n",
            "\n",
            "Phasellus pharetra purus eget tempus ornare. Donec dictum nulla nec dapibus egestas. Nunc ac finibus dui. Nullam vel scelerisque nulla, in consequat nisi. Mauris nec purus aliquet, commodo erat et, cursus nisl. Nam non magna lacus. Duis sodales lacus sed efficitur euismod. Ut non vehicula nulla, sit amet scelerisque dui. Vestibulum ante ipsum primis in faucibus orci luctus et ultrices posuere cubilia curae; Morbi malesuada leo sit amet lorem imperdiet sodales. Donec quis turpis est. Nullam sed lectus ullamcorper, aliquet urna sit amet, venenatis quam. Vestibulum interdum a risus vel volutpat. Vivamus mauris ligula, pharetra non libero tempor, ornare facilisis dui. Duis tincidunt tortor tincidunt dui vehicula, id faucibus purus eleifend.\n",
            "\n",
            "\n",
            "\n",
            "Suspendisse tincidunt erat id turpis malesuada, ut lobortis felis feugiat. Donec rhoncus metus ut nulla faucibus feugiat. Vestibulum ante ipsum primis in faucibus orci luctus et ultrices posuere cubilia curae; Sed in tristique felis. Aenean tellus ex, congue iaculis neque quis, ultricies dictum massa. Curabitur vulputate efficitur libero, sed ullamcorper sapien malesuada ut. Duis venenatis, ante at vestibulum rhoncus, neque justo convallis ipsum, non elementum sem mauris vel nunc. In urna est, vulputate vitae libero ut, egestas blandit nisl. Praesent scelerisque vulputate libero, vel imperdiet risus commodo ut. In hac habitasse platea dictumst. Phasellus pharetra rutrum metus quis scelerisque. Pellentesque ex arcu, vestibulum quis ultricies ut, luctus varius felis. Vivamus sed aliquam sem, a dictum mauris. Phasellus non leo vel tortor pulvinar ornare ultrices sed enim.\n"
          ]
        }
      ]
    },
    {
      "cell_type": "code",
      "source": [
        "myFile = open('/content/gdrive/My Drive/Colab Notebooks/filename2.txt', 'w')\n",
        "myFile.write('tttt') # первый вариант записи\n",
        "print('zzzz', file=myFile) # второй вариант записи"
      ],
      "metadata": {
        "id": "Zr4FLy19nuNS"
      },
      "execution_count": null,
      "outputs": []
    },
    {
      "cell_type": "code",
      "source": [
        "with open('/content/gdrive/My Drive/Colab Notebooks/filename2.txt') as myFile:\n",
        "  for line in myFile:\n",
        "    print(line)"
      ],
      "metadata": {
        "colab": {
          "base_uri": "https://localhost:8080/"
        },
        "id": "XONrhreMoHXf",
        "outputId": "c771a715-bb87-435f-daca-10f9401d58e4"
      },
      "execution_count": null,
      "outputs": [
        {
          "output_type": "stream",
          "name": "stdout",
          "text": [
            "ttttzzzz\n",
            "\n"
          ]
        }
      ]
    },
    {
      "cell_type": "code",
      "source": [
        "# Пользователь вводит произвольное целое число, а программа читает некий русский текст из файла и зашифровывает его в другой файл со сдвигом, соответствующим этому числу.\n",
        "alpha = 'абвгдеёжзийклмнопрстуфхцчшщъыьэюя'\n",
        "alphaUp = 'АБВГДЕЁЖЗИКЛМНОПРСТУФХЦЧШЩЪЫЬЭЮЯ'\n",
        "number = int(input('Введите число, на которое нужно сдвинуть текст: '))\n",
        "\n",
        "summary = ''\n",
        "\n",
        "def changeChar(char):\n",
        "  if char in alpha:\n",
        "    return alpha[(alpha.index(char) + number) % len(alpha)]\n",
        "  elif char in alphaUp:\n",
        "     return alphaUp[(alphaUp.index(char) + number) % len(alphaUp)]\n",
        "  else:\n",
        "    return char\n",
        "\n",
        "with open('/content/gdrive/My Drive/Colab Notebooks/filename3.txt', encoding='utf8') as myFile:\n",
        "  for line in myFile:\n",
        "    for char in line:\n",
        "      summary += changeChar(char)\n",
        "\n",
        "with open('/content/gdrive/My Drive/Colab Notebooks/output.txt', 'w', encoding='utf8') as myFile:\n",
        "  myFile.write(summary)\n"
      ],
      "metadata": {
        "colab": {
          "base_uri": "https://localhost:8080/"
        },
        "id": "6YZ5dyhto5XZ",
        "outputId": "f2e2f82a-afab-4240-db5e-2d3dd36a9682"
      },
      "execution_count": null,
      "outputs": [
        {
          "name": "stdout",
          "output_type": "stream",
          "text": [
            "Введите число, на которое нужно сдвинуть текст: 4\n"
          ]
        }
      ]
    }
  ]
}
