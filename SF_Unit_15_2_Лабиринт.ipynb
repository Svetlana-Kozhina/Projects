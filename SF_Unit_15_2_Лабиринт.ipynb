{
  "nbformat": 4,
  "nbformat_minor": 0,
  "metadata": {
    "colab": {
      "provenance": [],
      "authorship_tag": "ABX9TyNdUoKlTTvgY2t5A5B4pbUO",
      "include_colab_link": true
    },
    "kernelspec": {
      "name": "python3",
      "display_name": "Python 3"
    },
    "language_info": {
      "name": "python"
    }
  },
  "cells": [
    {
      "cell_type": "markdown",
      "metadata": {
        "id": "view-in-github",
        "colab_type": "text"
      },
      "source": [
        "<a href=\"https://colab.research.google.com/github/Svetlana-Kozhina/Projects-from-SkillFactory/blob/master/SF_Unit_15_2_%D0%9B%D0%B0%D0%B1%D0%B8%D1%80%D0%B8%D0%BD%D1%82.ipynb\" target=\"_parent\"><img src=\"https://colab.research.google.com/assets/colab-badge.svg\" alt=\"Open In Colab\"/></a>"
      ]
    },
    {
      "cell_type": "code",
      "execution_count": 2,
      "metadata": {
        "id": "XKk3AIeyyV4D",
        "colab": {
          "base_uri": "https://localhost:8080/"
        },
        "outputId": "0b8a2fee-a384-44bf-fbdb-dd0d82143de1"
      },
      "outputs": [
        {
          "output_type": "stream",
          "name": "stdout",
          "text": [
            "Mounted at /content/gdrive\n"
          ]
        }
      ],
      "source": [
        "from google.colab import drive\n",
        "drive.mount('/content/gdrive')"
      ]
    },
    {
      "cell_type": "code",
      "source": [
        "# Открываем файл и читаем построчно\n",
        "labirint = []\n",
        "\n",
        "with open ('/content/gdrive/My Drive/Colab Notebooks/labirint.txt') as myFile:\n",
        "  for line in myFile:\n",
        "    labirint.append(line.replace('\\n', '').split(' '))\n",
        "\n",
        "print(labirint)"
      ],
      "metadata": {
        "colab": {
          "base_uri": "https://localhost:8080/"
        },
        "id": "UL8udppU0nVq",
        "outputId": "7d667c09-63f8-4bef-d5da-020d4a66fb46"
      },
      "execution_count": 6,
      "outputs": [
        {
          "output_type": "stream",
          "name": "stdout",
          "text": [
            "[['1', '1', '1', '1', '1', '1', '1', '1', '1', '1', '1', '1'], ['1', '0', '0', '0', '0', '0', '0', '0', '0', '0', '0', '1'], ['A', '0', '1', '1', '1', '1', '0', '1', '0', '1', '1', '1'], ['1', '0', '1', '1', '0', '0', '0', '0', '0', '1', '1', '1'], ['1', '0', '1', '1', '0', '1', '0', '1', '1', '0', '0', '1'], ['1', '0', '0', '0', '0', '1', '0', '0', '0', '0', '0', '1'], ['1', '1', '0', '1', '1', '1', '1', '1', '1', '1', '0', '1'], ['B', '0', '1', '0', '1', '1', '0', '0', '1', '0', '0', '1'], ['1', '0', '0', '0', '0', '0', '0', '1', '0', '0', '1', '1'], ['1', '1', '1', '0', '1', '0', '0', '0', '0', '1', '1', '1'], ['1', '1', '1', '1', '1', '1', '1', '1', '1', '1', '1', '1']]\n"
          ]
        }
      ]
    },
    {
      "cell_type": "code",
      "source": [
        "# Преобразровываем в числа и увеличиваем значения на 1\n",
        "ii = 0\n",
        "for i in labirint:\n",
        "  jj = 0\n",
        "  for j in i:\n",
        "    if j == 'A':\n",
        "      labirint[ii][jj] = 1\n",
        "      pozIn = (ii, jj)\n",
        "    elif j == 'B':\n",
        "      labirint[ii][jj] = 0\n",
        "      pozOut = (ii, jj)\n",
        "    elif j == '1':\n",
        "      labirint[ii][jj] = -1\n",
        "    else:\n",
        "      labirint[ii][jj] = 0\n",
        "    jj += 1\n",
        "  ii += 1"
      ],
      "metadata": {
        "id": "d2eXGSlZ2Hgx"
      },
      "execution_count": 7,
      "outputs": []
    },
    {
      "cell_type": "code",
      "source": [
        "def found(pathArr, finPoint):\n",
        "    weight = 1\n",
        "    for i in range(len(pathArr) * len(pathArr[0])):\n",
        "        for y in range(len(pathArr)):          \n",
        "            for x in range(len(pathArr[y])):                   \n",
        "                if pathArr[y][x] == weight:            \n",
        "                    #Вниз\n",
        "                    if y > 0 and pathArr[y - 1][x] == 0:\n",
        "                        pathArr[y - 1][x] = weight + 1 \n",
        "                           \n",
        "                    #Вверх\n",
        "                    if y < (len(pathArr) - 1) and pathArr[y + 1][x] == 0:\n",
        "                        pathArr[y + 1][x] = weight + 1\n",
        "                        \n",
        "                    #Вправо\n",
        "                    if x > 0 and pathArr[y][x - 1] == 0:\n",
        "                        pathArr[y][x - 1] = weight + 1\n",
        "                    \n",
        "                    #Влево\n",
        "                    if x < (len(pathArr[y]) - 1) and pathArr[y][x + 1] == 0:\n",
        "                        pathArr[y][x + 1] = weight + 1\n",
        "                           \n",
        "                    #Конечная точка        \n",
        "                    if (abs(y - finPoint[0]) + abs(x - finPoint[1])) == 1:\n",
        "                        pathArr[finPoint[0]][finPoint[1]] = weight + 1\n",
        "                        return True        \n",
        "        weight += 1   \n",
        "    return False      "
      ],
      "metadata": {
        "id": "OfIErFIx3ou5"
      },
      "execution_count": 8,
      "outputs": []
    },
    {
      "cell_type": "code",
      "source": [
        "def printPath(pathArr, finPoint):      \n",
        "    y = finPoint[0]\n",
        "    x = finPoint[1]\n",
        "    weight = pathArr[y][x]\n",
        "    result = list(range(weight))\n",
        "    while (weight):\n",
        "        weight -= 1\n",
        "        if y > 0 and pathArr[y - 1][x] == weight:\n",
        "            result[weight] = 'Вниз' \n",
        "            y -= 1\n",
        "        elif y < (len(pathArr) - 1) and pathArr[y + 1][x] == weight:\n",
        "            result[weight] = 'Вверх' \n",
        "            y += 1\n",
        "        elif x > 0 and pathArr[y][x - 1] == weight:\n",
        "            result[weight] = 'Вправо' \n",
        "            x -= 1\n",
        "        elif x < (len(pathArr[y]) - 1) and pathArr[y][x + 1] == weight:\n",
        "            result[weight] = 'Влево' \n",
        "            x += 1\n",
        "            \n",
        "    return result[1:]"
      ],
      "metadata": {
        "id": "ngwxaZTb4JlP"
      },
      "execution_count": 9,
      "outputs": []
    },
    {
      "cell_type": "code",
      "source": [
        "if not found(labirint, pozOut):\n",
        "    print(\"Путь не найден!\")\n",
        "else:\n",
        "    result = printPath(labirint, pozOut)\n",
        "\n",
        "    for i in labirint:\n",
        "        for line in i:\n",
        "            print(\"{:^3}\".format(line), end = \" \")\n",
        "        print()\n",
        "    print(result)"
      ],
      "metadata": {
        "colab": {
          "base_uri": "https://localhost:8080/"
        },
        "id": "iOYuLtZi4MFD",
        "outputId": "9d0f7dfe-23a8-46ae-f4c8-620d1476304a"
      },
      "execution_count": 10,
      "outputs": [
        {
          "output_type": "stream",
          "name": "stdout",
          "text": [
            "-1  -1  -1  -1  -1  -1  -1  -1  -1  -1  -1  -1  \n",
            "-1   3   4   5   6   7   8   9  10  11  12  -1  \n",
            " 1   2  -1  -1  -1  -1   9  -1  11  -1  -1  -1  \n",
            "-1   3  -1  -1  10  11  10  11  12  -1  -1  -1  \n",
            "-1   4  -1  -1   9  -1  11  -1  -1  16  17  -1  \n",
            "-1   5   6   7   8  -1  12  13  14  15  16  -1  \n",
            "-1  -1   7  -1  -1  -1  -1  -1  -1  -1  17  -1  \n",
            "32  31  -1  29  -1  -1  26  27  -1  19  18  -1  \n",
            "-1  30  29  28  27  26  25  -1  21  20  -1  -1  \n",
            "-1  -1  -1  29  -1  25  24  23  22  -1  -1  -1  \n",
            "-1  -1  -1  -1  -1  -1  -1  -1  -1  -1  -1  -1  \n",
            "['Вправо', 'Вверх', 'Вправо', 'Вправо', 'Вправо', 'Вправо', 'Вправо', 'Вниз', 'Вниз', 'Вниз', 'Вниз', 'Вправо', 'Вправо', 'Вправо', 'Вправо', 'Вниз', 'Вниз', 'Влево', 'Вниз', 'Влево', 'Вниз', 'Влево', 'Влево', 'Влево', 'Вверх', 'Влево', 'Влево', 'Влево', 'Влево', 'Вверх', 'Влево']\n"
          ]
        }
      ]
    }
  ]
}